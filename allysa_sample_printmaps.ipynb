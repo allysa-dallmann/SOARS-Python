{
 "cells": [
  {
   "cell_type": "code",
   "execution_count": null,
   "metadata": {},
   "outputs": [],
   "source": [
    "import xarray as xr\n",
    "import matplotlib.pyplot as plt\n",
    "import numpy as np\n",
    "import pandas as pd\n",
    "import seaborn as sns\n",
    "import cartopy.crs as ccrs\n",
    "import cartopy.feature as cfeature\n",
    "from cartopy.util import add_cyclic_point #pull a utility function to add a cyclic point (gets rid of white stripe)"
   ]
  },
  {
   "cell_type": "markdown",
   "metadata": {},
   "source": [
    "## Steps"
   ]
  },
  {
   "cell_type": "code",
   "execution_count": null,
   "metadata": {},
   "outputs": [],
   "source": [
    "# 1) open dataset: xr.open_dataset"
   ]
  },
  {
   "cell_type": "code",
   "execution_count": null,
   "metadata": {},
   "outputs": [],
   "source": [
    "# 2) Change the time to be from DatetimeNoLeap to a Datetime64:\n",
    "# data_tos['time'] = np.arange('1958-01-01','2019-01-01',dtype = 'datetime64[M]')\n",
    "# data_tos"
   ]
  },
  {
   "cell_type": "code",
   "execution_count": 1,
   "metadata": {},
   "outputs": [],
   "source": [
    "# 3) assign desired variable: tos = data_tos['tos']"
   ]
  },
  {
   "cell_type": "code",
   "execution_count": null,
   "metadata": {},
   "outputs": [],
   "source": [
    "# 4) print(tos): please let me know what prints (maybe send a screenshot over Slack)"
   ]
  },
  {
   "cell_type": "code",
   "execution_count": null,
   "metadata": {},
   "outputs": [],
   "source": [
    "# 5) sanity check\n",
    "data_tos.mean('time').plot();"
   ]
  },
  {
   "cell_type": "code",
   "execution_count": null,
   "metadata": {},
   "outputs": [],
   "source": [
    "# 6) print the same map as above but formatted so the continents don't look squished:\n",
    "\n",
    "fig=plt.figure(figsize=(10,5))\n",
    "\n",
    "f, ax = plot.subplots(proj='robin', \n",
    "                      axwidth='12cm', \n",
    "                      proj_kw={1: {'central_longitude': 180}})\n",
    "\n",
    "p = ax.contourf(data_tos.lon, data_tos.lat, data_tos, transform=ccrs.PlateCarree(),\n",
    "               cmap='Balance', # AFTER AND IF A MAP SUCCESSFULLY PLOTS, YOU CAN CUSTOMIZE THE COLOR BAR VALUES AND INCREMENTS BY USING levels=plot.arange(-3, 3.01, 0.2),\n",
    "               globe=True, extend='both')\n",
    "\n",
    "ax.colorbar(p, loc='b', length=1, extendsize='1.7em', labelsize=18,\n",
    "            linewidth=1.3, edgecolor='black', locator=None, ticklabelsize=16)\n",
    "\n",
    "ax.format(land=True)\n",
    "ax.format(grid=False);"
   ]
  }
 ],
 "metadata": {
  "kernelspec": {
   "display_name": "Python 3",
   "language": "python",
   "name": "python3"
  },
  "language_info": {
   "codemirror_mode": {
    "name": "ipython",
    "version": 3
   },
   "file_extension": ".py",
   "mimetype": "text/x-python",
   "name": "python",
   "nbconvert_exporter": "python",
   "pygments_lexer": "ipython3",
   "version": "3.7.3"
  }
 },
 "nbformat": 4,
 "nbformat_minor": 4
}
